{
 "cells": [
  {
   "cell_type": "code",
   "execution_count": 1,
   "metadata": {
    "collapsed": false
   },
   "outputs": [],
   "source": [
    "# %matplotlib notebook\n",
    "import typing\n",
    "import numpy as np\n",
    "import matplotlib.pyplot as plt\n",
    "import sklearn\n",
    "from sklearn import datasets\n",
    "from sklearn.neighbors import NearestNeighbors\n",
    "from sklearn.utils import shuffle\n",
    "from scipy.linalg import eigh\n",
    "from sklearn import manifold\n",
    "import matplotlib.cm as cm\n",
    "\n",
    "xrange = range"
   ]
  },
  {
   "cell_type": "code",
   "execution_count": 2,
   "metadata": {
    "collapsed": false
   },
   "outputs": [
    {
     "name": "stdout",
     "output_type": "stream",
     "text": [
      "[ 1.  9.  2.  2.  7.  1.  8.  3.  3.  7.  7.  5.  0.  1.  2.  9.  2.  7.\n",
      "  7.  9.  9.  8.  5.  8.  1.  2.  3.  7.  5.  5.  6.  0.  9.  0.  2.  5.\n",
      "  0.  0.  2.  9.  5.  7.  2.  4.  8.  6.  0.  8.  3.  9.  9.  4.  3.  9.\n",
      "  8.  1.  6.  0.  3.  1.  9.  6.  4.  0.  2.  9.  3.  0.  9.  3.  8.  6.\n",
      "  3.  1.  2.  2.  3.  2.  5.  1.  1.  8.  3.  7.  4.  6.  3.  1.  0.  9.\n",
      "  2.  7.  4.  8.  7.  1.  6.  7.  8.  3.  3.  2.  3.  4.  9.  0.  4.  4.\n",
      "  4.  3.  5.  6.  4.  8.  3.  8.  9.  1.  0.  4.  7.  2.  7.  2.  0.  6.\n",
      "  8.  6.  8.  1.  8.  5.  5.  1.  2.  9.  2.  7.  5.  9.  7.  5.  6.  8.\n",
      "  1.  6.  4.  2.  6.  7.  1.  4.  7.  9.  4.  8.  8.  4.  7.  1.  0.  6.\n",
      "  4.  5.  1.  1.  4.  8.  1.  2.  7.  1.  5.  7.  7.  8.  9.  5.  5.  6.\n",
      "  0.  3.  7.  4.  0.  2.  8.  8.  1.  9.  1.  0.  5.  2.  9.  4.  4.  1.\n",
      "  8.  6.  2.  7.  1.  3.  8.  6.  2.  2.  6.  2.  9.  8.  0.  9.  5.  5.\n",
      "  0.  6.  3.  1.  8.  3.  9.  8.  3.  7.  9.  0.  6.  9.  4.  3.  2.  1.\n",
      "  3.  0.  6.  8.  0.  0.  0.  1.  2.  3.  0.  4.  2.  8.  8.  0.  4.  3.\n",
      "  0.  7.  6.  5.  5.  1.  1.  0.  9.  5.  7.  7.  3.  9.  0.  3.  2.  1.\n",
      "  9.  4.  0.  1.  3.  6.  1.  1.  3.  3.  6.  9.  4.  8.  5.  0.  2.  7.\n",
      "  9.  6.  2.  9.  6.  7.  5.  0.  6.  7.  7.  4.  1.  7.  9.  2.  1.  1.\n",
      "  5.  9.  9.  9.  3.  6.  9.  2.  1.  6.  1.  0.  7.  0.  8.  0.  8.  2.\n",
      "  7.  1.  6.  5.  0.  7.  3.  2.  9.  1.  5.  7.  9.  3.  0.  0.  8.  5.\n",
      "  2.  3.  7.  2.  7.  3.  6.  3.  9.  5.  6.  0.  8.  8.  7.  7.  8.  2.\n",
      "  7.  0.  2.  6.  4.  6.  2.  1.  3.  9.  0.  4.  8.  4.  3.  9.  5.  9.\n",
      "  0.  3.  2.  4.  5.  7.  2.  9.  9.  8.  3.  2.  5.  4.  3.  4.  0.  2.\n",
      "  9.  9.  7.  4.  8.  2.  6.  9.  4.  3.  7.  1.  8.  0.  0.  8.  2.  5.\n",
      "  8.  4.  5.  7.  6.  1.  5.  9.  1.  4.  5.  4.  9.  9.  6.  8.  7.  8.\n",
      "  6.  3.  6.  0.  7.  5.  1.  3.  7.  1.  3.  4.  7.  8.  6.  7.  8.  2.\n",
      "  0.  2.  7.  6.  2.  9.  5.  9.  1.  3.  5.  2.  2.  4.  8.  1.  6.  3.\n",
      "  0.  4.  3.  7.  8.  6.  9.  0.  6.  9.  5.  4.  2.  5.  6.  5.  0.  3.\n",
      "  1.  1.  5.  3.  6.  3.  4.  0.  1.  5.  8.  5.  6.  4.  9.  3.  3.  3.\n",
      "  1.  4.  3.  0.  8.  9.  0.  3.  7.  5.  9.  7.  2.  5.  7.  9.  2.  6.\n",
      "  6.  3.  9.  7.  6.  1.  9.  7.  0.  7.  4.  9.  8.  2.  2.  5.  9.  6.\n",
      "  2.  6.  0.  1.  1.  8.  9.  2.  9.  2.  2.  2.  3.  7.  0.  9.  5.  9.\n",
      "  4.  7.  9.  3.  3.  9.  8.  4.  5.  4.  7.  6.  3.  9.  1.  0.  6.  3.\n",
      "  1.  3.  0.  2.  4.  1.  5.  7.  4.  4.  7.  1.  4.  2.  7.  9.  9.  9.\n",
      "  9.  7.  0.  2.  1.  8.  6.  7.  2.  9.  1.  2.  1.  1.  9.  2.  7.  7.\n",
      "  2.  8.  1.  2.  0.  0.  6.  8.  4.  0.  6.  9.  2.  0.  0.  0.  1.  3.\n",
      "  9.  8.  2.  7.  1.  4.  9.  9.  3.  1.  1.  8.  3.  3.  3.  6.  9.  2.\n",
      "  0.  1.  5.  3.  6.  9.  3.  2.  3.  8.  8.  8.  2.  4.  3.  6.  1.  0.\n",
      "  7.  1.  5.  2.  2.  8.  3.  5.  8.  8.  3.  2.  1.  9.  1.  7.  9.  8.\n",
      "  6.  0.  0.  3.  0.  2.  8.  4.  4.  8.  9.  8.  9.  7.  4.  5.  9.  6.\n",
      "  9.  4.  7.  2.  7.  7.  0.  0.  9.  1.  7.  4.  4.  9.  6.  6.  6.  1.\n",
      "  2.  3.  7.  0.  8.  1.  2.  5.  8.  9.  1.  7.  9.  4.  0.  3.  0.  6.\n",
      "  3.  3.  2.  7.  2.  6.  3.  3.  8.  5.  1.  4.  9.  0.  0.  4.  3.  7.\n",
      "  2.  8.  2.  4.  9.  5.  8.  3.  5.  1.  2.  6.  6.  5.  4.  4.  2.  3.\n",
      "  4.  0.  1.  3.  6.  9.  6.  3.  9.  7.  0.  2.  2.  4.  5.  5.  0.  3.\n",
      "  6.  1.  6.  4.  2.  6.  3.  3.  3.  2.  8.  4.  4.  3.  6.  9.  7.  6.\n",
      "  5.  1.  4.  5.  9.  9.  9.  4.  2.  6.  5.  1.  3.  4.  6.  1.  1.  1.\n",
      "  3.  3.  2.  9.  7.  1.  5.  4.  7.  6.  3.  6.  2.  7.  6.  1.  6.  8.\n",
      "  9.  4.  1.  0.  1.  7.  8.  0.  6.  5.  5.  3.  8.  7.  3.  9.  8.  7.\n",
      "  8.  2.  4.  0.  1.  3.  2.  8.  8.  7.  7.  0.  5.  5.  5.  7.  7.  3.\n",
      "  6.  9.  6.  5.  4.  0.  8.  0.  6.  1.  2.  6.  4.  5.  7.  2.  0.  9.\n",
      "  0.  5.  3.  6.  3.  2.  0.  4.  3.  4.  3.  6.  1.  9.  3.  0.  6.  5.\n",
      "  1.  2.  5.  3.  8.  9.  4.  1.  6.  1.  3.  8.  8.  9.  1.  7.  7.  5.\n",
      "  3.  1.  2.  2.  3.  9.  2.  1.  6.  7.  1.  6.  1.  8.  1.  6.  4.  0.\n",
      "  5.  8.  3.  5.  7.  8.  5.  8.  4.  3.  1.  1.  5.  5.  6.  8.  1.  4.\n",
      "  5.  6.  2.  5.  5.  4.  4.  0.  2.  9.  5.  8.  9.  7.  6.  6.  5.  7.\n",
      "  4.  6.  4.  7.  7.  6.  4.  6.  5.  3.]\n"
     ]
    }
   ],
   "source": [
    "data = sklearn.datasets.fetch_mldata(\"MNIST original\")\n",
    "n = 1000\n",
    "imgs = data.data\n",
    "lables = data.target\n",
    "\n",
    "imgs, lables = shuffle(imgs, lables, random_state=0)\n",
    "\n",
    "imgs = imgs[:n] * 1.0\n",
    "lables = lables[:n]\n",
    "\n",
    "plt.figure()\n",
    "\n",
    "n_img_per_row = 10\n",
    "img = np.zeros((30 * n_img_per_row, 30 * n_img_per_row))\n",
    "for i in range(n_img_per_row):\n",
    "    ix = 30 * i + 1\n",
    "    for j in range(n_img_per_row):\n",
    "        iy = 30 * j + 1\n",
    "        img[ix:ix + 28, iy:iy + 28] = imgs[i * n_img_per_row + j].reshape((28, 28))\n",
    "\n",
    "plt.imshow(img, cmap=plt.cm.binary)\n",
    "plt.xticks([])\n",
    "plt.yticks([])\n",
    "plt.title('A selection from the 28x28-dimensional digits dataset')\n",
    "print(lables)"
   ]
  },
  {
   "cell_type": "code",
   "execution_count": 3,
   "metadata": {
    "collapsed": true
   },
   "outputs": [],
   "source": [
    "import matplotlib.pyplot as plt\n",
    "from matplotlib import offsetbox\n",
    "from mpl_toolkits.mplot3d import Axes3D\n",
    "\n",
    "#----------------------------------------------------------------------\n",
    "# Scale and visualize the embedding vectors\n",
    "def plot_embedding2d(X, y, title=None):\n",
    "    x_min, x_max = np.min(X, 0), np.max(X, 0)\n",
    "    X = (X - x_min) / (x_max - x_min)\n",
    "\n",
    "    plt.figure()\n",
    "    ax = plt.subplot(111)\n",
    "    for i in range(X.shape[0]):\n",
    "        plt.text(X[i, 0], X[i, 1], str(y[i]),\n",
    "                 color=plt.cm.Set1(y[i] / 10.),\n",
    "                 fontdict={'weight': 'bold', 'size': 9})\n",
    "\n",
    "\n",
    "    plt.xticks([]), plt.yticks([])\n",
    "    if title is not None:\n",
    "        plt.title(title)\n",
    "\n",
    "        \n",
    "def plot_embedding3d(X, y, title=None):\n",
    "    x_min, x_max = np.min(X, 0), np.max(X, 0)\n",
    "    X = (X - x_min) / (x_max - x_min)\n",
    "\n",
    "    plt.figure()\n",
    "    ax = plt.subplot(111, projection='3d')\n",
    "    for i in range(X.shape[0]):\n",
    "        ax.text(X[i, 0], X[i, 1], X[i, 2], str(y[i]),\n",
    "                 color=plt.cm.Set1(y[i] / 10.),\n",
    "                 fontdict={'weight': 'bold', 'size': 9})\n",
    "\n",
    "\n",
    "    plt.xticks([]), plt.yticks([])\n",
    "    if title is not None:\n",
    "        plt.title(title)"
   ]
  },
  {
   "cell_type": "code",
   "execution_count": 4,
   "metadata": {
    "collapsed": true
   },
   "outputs": [],
   "source": [
    "def analyze_M(M: np.ndarray):\n",
    "    fig = plt.figure()\n",
    "    ax = fig.add_subplot(111)\n",
    "    cax = ax.matshow(M, interpolation='nearest')\n",
    "    fig.colorbar(cax)\n",
    "    plt.title(\"Matrix M\")\n",
    "    plt.savefig(\"Matrix_M.png\")\n",
    "    \n",
    "    U, s, V = np.linalg.svd(M)\n",
    "    \n",
    "    fig = plt.figure()\n",
    "    ax = fig.add_subplot(111)\n",
    "    ax.hist(s)\n",
    "    plt.title(\"Eigen values\")\n",
    "    plt.xlabel(\"Bins\")\n",
    "    plt.ylabel(\"Frequency\")\n",
    "    \n",
    "    plt.savefig(\"eigen_histo.png\")\n",
    "    \n",
    "    reconstruction_error = np.cumsum(s[::-1])\n",
    "#     print(s)\n",
    "#     print(reconstruction_error)\n",
    "    fig = plt.figure()\n",
    "    plt.plot(np.linspace(1, s.shape[0], s.shape[0]), reconstruction_error, 'ro')\n",
    "    plt.title(\"Reconstruction Error\")\n",
    "    plt.xlabel(\"K\")\n",
    "    plt.ylabel(\"Error\")\n",
    "    \n",
    "    plt.savefig(\"error.png\")"
   ]
  },
  {
   "cell_type": "code",
   "execution_count": 5,
   "metadata": {
    "collapsed": false
   },
   "outputs": [],
   "source": [
    "def sexy_lle(X: np.ndarray, k: int, m: int = 2, metric: str = 'euclidean', analyze: bool = False) -> np.ndarray:\n",
    "    n = X.shape[0] # number of data points\n",
    "    d = X.shape[1] # dimensionality\n",
    "    \n",
    "    # Compute the neighbors of each data point\n",
    "    nbrs = NearestNeighbors(n_neighbors=k + 1, metric=metric).fit(X)\n",
    "    distances, indices = nbrs.kneighbors(X)\n",
    "    \n",
    "    \n",
    "    W = np.zeros((n,n))\n",
    "    for i in range(n):        \n",
    "        ixs = indices[i][1:]\n",
    "        x = X[i]\n",
    "        ns = X[ixs]\n",
    "        deltas = ns - x\n",
    "        C = np.dot(deltas, np.transpose(deltas))\n",
    "        factor = np.trace(C) / (k * 1000.0)\n",
    "        C = C + factor * np.eye(k)\n",
    "\n",
    "        w = np.linalg.solve(C, np.ones(k))\n",
    "        W[i][ixs] = w / w.sum()\n",
    "        \n",
    "#         C_inv = np.linalg.inv(C)\n",
    "#         normalizer = np.sum(C_inv, axis=None)\n",
    "#         W[i][ixs] = np.sum(C_inv, axis=1) / normalizer\n",
    "        \n",
    "    eye = np.eye(W.shape[0])\n",
    "    temp = eye - W\n",
    "    M = np.dot(np.transpose(temp), temp)\n",
    "    if analyze:\n",
    "        analyze_M(M)\n",
    "\n",
    "    k_skip = 1\n",
    "    eigen_values, eigen_vectors = eigh(M, eigvals=(k_skip, m + k_skip - 1), overwrite_a=True)\n",
    "    index = np.argsort(np.abs(eigen_values))\n",
    "    embedding, reconstruction_error =  eigen_vectors[:, index], np.sum(eigen_values)\n",
    "    \n",
    "    return embedding\n"
   ]
  },
  {
   "cell_type": "code",
   "execution_count": 11,
   "metadata": {
    "collapsed": false,
    "scrolled": true
   },
   "outputs": [
    {
     "name": "stderr",
     "output_type": "stream",
     "text": [
      "/usr/local/lib/python3.5/site-packages/matplotlib/pyplot.py:516: RuntimeWarning: More than 20 figures have been opened. Figures created through the pyplot interface (`matplotlib.pyplot.figure`) are retained until explicitly closed and may consume too much memory. (To control this warning, see the rcParam `figure.max_open_warning`).\n",
      "  max_open_warning, RuntimeWarning)\n"
     ]
    }
   ],
   "source": [
    "ks = [5, 10, 20, 30]\n",
    "metrics = ['euclidean', 'manhattan', 'canberra', 'hamming']\n",
    "\n",
    "for metric in metrics:\n",
    "    for k in ks:\n",
    "        title = \"k: \" + str(k) + \" (\" + metric + \")\"\n",
    "        embeded2 = sexy_lle(imgs, k, 2, metric)\n",
    "        embeded3 = sexy_lle(imgs, k, 3, metric)\n",
    "\n",
    "        plot_embedding2d(embeded2, lables, title)\n",
    "        plt.savefig(\"k_\" + str(k) + metric + '.png')\n",
    "        plot_embedding3d(embeded3, lables, title)\n",
    "        plt.savefig(\"k_\" + str(k) + metric + '3d.png')\n",
    "\n",
    "\n",
    "    #     clf = manifold.LocallyLinearEmbedding(k, n_components=2,\n",
    "    #                                           method='standard')\n",
    "    #     sk_embeded = clf.fit_transform(imgs)\n",
    "    #     plot_embedding2d(sk_embeded, lables, title)\n"
   ]
  },
  {
   "cell_type": "code",
   "execution_count": 7,
   "metadata": {
    "collapsed": false
   },
   "outputs": [
    {
     "name": "stderr",
     "output_type": "stream",
     "text": [
      "/usr/local/lib/python3.5/site-packages/matplotlib/pyplot.py:516: RuntimeWarning: More than 20 figures have been opened. Figures created through the pyplot interface (`matplotlib.pyplot.figure`) are retained until explicitly closed and may consume too much memory. (To control this warning, see the rcParam `figure.max_open_warning`).\n",
      "  max_open_warning, RuntimeWarning)\n"
     ]
    },
    {
     "data": {
      "text/plain": [
       "array([[ 0.05590969, -0.0826831 ],\n",
       "       [ 0.02357511,  0.05046604],\n",
       "       [ 0.00874849, -0.00513027],\n",
       "       ..., \n",
       "       [-0.03052464, -0.01575462],\n",
       "       [-0.0106847 ,  0.00082979],\n",
       "       [-0.03393292,  0.00272716]])"
      ]
     },
     "execution_count": 7,
     "metadata": {},
     "output_type": "execute_result"
    }
   ],
   "source": [
    "sexy_lle(imgs, 10, 2, analyze=True)\n",
    "\n"
   ]
  },
  {
   "cell_type": "code",
   "execution_count": 8,
   "metadata": {
    "collapsed": false
   },
   "outputs": [],
   "source": [
    "def reconstruct(y: np.ndarray, X: np.ndarray, Y: np.ndarray, k: int, metric: str = 'euclidean') -> np.ndarray:\n",
    "    nbrs = NearestNeighbors(n_neighbors=k + 1, metric=metric).fit(Y)\n",
    "    distances, indices = nbrs.kneighbors(y)\n",
    "    indices = indices[:,1:]\n",
    "    ns = Y[indices]\n",
    "    deltas = ns - y\n",
    "    deltas = deltas.reshape(k, y.shape[0])\n",
    "    C = np.dot(deltas, np.transpose(deltas))\n",
    "    factor = np.trace(C) / (k * 1000.0)\n",
    "    C = C + factor * np.eye(k)\n",
    "    w = np.linalg.solve(C, np.ones(k))\n",
    "    w = w / w.sum()\n",
    "    \n",
    "    reconstructed_x = np.dot(np.transpose(X[indices].reshape((k,-1))), w)\n",
    "    return reconstructed_x\n",
    "    "
   ]
  },
  {
   "cell_type": "code",
   "execution_count": 9,
   "metadata": {
    "collapsed": false
   },
   "outputs": [],
   "source": [
    "def visualize_digits(xs: typing.List[np.ndarray], title=''):\n",
    "    plt.figure()\n",
    "    for i, x in enumerate(xs):\n",
    "        x = x.reshape((28,28))\n",
    "        plt.subplot(1,len(xs), i+1)\n",
    "        plt.imshow(x, cmap=plt.cm.binary)\n",
    "        plt.axis('off')\n"
   ]
  },
  {
   "cell_type": "code",
   "execution_count": 10,
   "metadata": {
    "collapsed": false,
    "scrolled": false
   },
   "outputs": [
    {
     "name": "stderr",
     "output_type": "stream",
     "text": [
      "/usr/local/lib/python3.5/site-packages/sklearn/utils/validation.py:386: DeprecationWarning: Passing 1d arrays as data is deprecated in 0.17 and willraise ValueError in 0.19. Reshape your data either using X.reshape(-1, 1) if your data has a single feature or X.reshape(1, -1) if it contains a single sample.\n",
      "  DeprecationWarning)\n",
      "/usr/local/lib/python3.5/site-packages/sklearn/utils/validation.py:386: DeprecationWarning: Passing 1d arrays as data is deprecated in 0.17 and willraise ValueError in 0.19. Reshape your data either using X.reshape(-1, 1) if your data has a single feature or X.reshape(1, -1) if it contains a single sample.\n",
      "  DeprecationWarning)\n",
      "/usr/local/lib/python3.5/site-packages/sklearn/utils/validation.py:386: DeprecationWarning: Passing 1d arrays as data is deprecated in 0.17 and willraise ValueError in 0.19. Reshape your data either using X.reshape(-1, 1) if your data has a single feature or X.reshape(1, -1) if it contains a single sample.\n",
      "  DeprecationWarning)\n",
      "/usr/local/lib/python3.5/site-packages/sklearn/utils/validation.py:386: DeprecationWarning: Passing 1d arrays as data is deprecated in 0.17 and willraise ValueError in 0.19. Reshape your data either using X.reshape(-1, 1) if your data has a single feature or X.reshape(1, -1) if it contains a single sample.\n",
      "  DeprecationWarning)\n",
      "/usr/local/lib/python3.5/site-packages/sklearn/utils/validation.py:386: DeprecationWarning: Passing 1d arrays as data is deprecated in 0.17 and willraise ValueError in 0.19. Reshape your data either using X.reshape(-1, 1) if your data has a single feature or X.reshape(1, -1) if it contains a single sample.\n",
      "  DeprecationWarning)\n",
      "/usr/local/lib/python3.5/site-packages/sklearn/utils/validation.py:386: DeprecationWarning: Passing 1d arrays as data is deprecated in 0.17 and willraise ValueError in 0.19. Reshape your data either using X.reshape(-1, 1) if your data has a single feature or X.reshape(1, -1) if it contains a single sample.\n",
      "  DeprecationWarning)\n",
      "/usr/local/lib/python3.5/site-packages/sklearn/utils/validation.py:386: DeprecationWarning: Passing 1d arrays as data is deprecated in 0.17 and willraise ValueError in 0.19. Reshape your data either using X.reshape(-1, 1) if your data has a single feature or X.reshape(1, -1) if it contains a single sample.\n",
      "  DeprecationWarning)\n",
      "/usr/local/lib/python3.5/site-packages/sklearn/utils/validation.py:386: DeprecationWarning: Passing 1d arrays as data is deprecated in 0.17 and willraise ValueError in 0.19. Reshape your data either using X.reshape(-1, 1) if your data has a single feature or X.reshape(1, -1) if it contains a single sample.\n",
      "  DeprecationWarning)\n",
      "/usr/local/lib/python3.5/site-packages/sklearn/utils/validation.py:386: DeprecationWarning: Passing 1d arrays as data is deprecated in 0.17 and willraise ValueError in 0.19. Reshape your data either using X.reshape(-1, 1) if your data has a single feature or X.reshape(1, -1) if it contains a single sample.\n",
      "  DeprecationWarning)\n",
      "/usr/local/lib/python3.5/site-packages/sklearn/utils/validation.py:386: DeprecationWarning: Passing 1d arrays as data is deprecated in 0.17 and willraise ValueError in 0.19. Reshape your data either using X.reshape(-1, 1) if your data has a single feature or X.reshape(1, -1) if it contains a single sample.\n",
      "  DeprecationWarning)\n",
      "/usr/local/lib/python3.5/site-packages/sklearn/utils/validation.py:386: DeprecationWarning: Passing 1d arrays as data is deprecated in 0.17 and willraise ValueError in 0.19. Reshape your data either using X.reshape(-1, 1) if your data has a single feature or X.reshape(1, -1) if it contains a single sample.\n",
      "  DeprecationWarning)\n",
      "/usr/local/lib/python3.5/site-packages/sklearn/utils/validation.py:386: DeprecationWarning: Passing 1d arrays as data is deprecated in 0.17 and willraise ValueError in 0.19. Reshape your data either using X.reshape(-1, 1) if your data has a single feature or X.reshape(1, -1) if it contains a single sample.\n",
      "  DeprecationWarning)\n",
      "/usr/local/lib/python3.5/site-packages/matplotlib/pyplot.py:516: RuntimeWarning: More than 20 figures have been opened. Figures created through the pyplot interface (`matplotlib.pyplot.figure`) are retained until explicitly closed and may consume too much memory. (To control this warning, see the rcParam `figure.max_open_warning`).\n",
      "  max_open_warning, RuntimeWarning)\n"
     ]
    },
    {
     "name": "stdout",
     "output_type": "stream",
     "text": [
      "starting interpolation\n"
     ]
    }
   ],
   "source": [
    "im1 = imgs[0]\n",
    "emb1 = embeded2[0]\n",
    "reconstructed1 = reconstruct(emb1, imgs, embeded2, 10)\n",
    "im2 = imgs[1]\n",
    "emb2 = embeded2[1]\n",
    "reconstructed2 = reconstruct(emb2, imgs, embeded2, 10)\n",
    "# visualize_digits([im1,reconstructed1])\n",
    "# visualize_digits([im2,reconstructed2])\n",
    "\n",
    "recs = []\n",
    "ims = []\n",
    "print(\"starting interpolation\")\n",
    "for i in np.linspace(0, 1, 10):\n",
    "    emb = i * emb1 + (1-i) * emb2\n",
    "    im = i * im1 + (1-i) * im2\n",
    "    rec = reconstruct(emb, imgs, embeded2, 10)\n",
    "    recs += [rec]\n",
    "    ims += [im]\n",
    "\n",
    "visualize_digits(recs)\n",
    "plt.savefig(\"interpolation_reconstruction.png\")\n",
    "visualize_digits(ims)\n",
    "plt.savefig(\"interpolation_original.png\")"
   ]
  },
  {
   "cell_type": "code",
   "execution_count": null,
   "metadata": {
    "collapsed": true
   },
   "outputs": [],
   "source": []
  }
 ],
 "metadata": {
  "kernelspec": {
   "display_name": "Python 3",
   "language": "python",
   "name": "python3"
  },
  "language_info": {
   "codemirror_mode": {
    "name": "ipython",
    "version": 3
   },
   "file_extension": ".py",
   "mimetype": "text/x-python",
   "name": "python",
   "nbconvert_exporter": "python",
   "pygments_lexer": "ipython3",
   "version": "3.5.2"
  }
 },
 "nbformat": 4,
 "nbformat_minor": 0
}
